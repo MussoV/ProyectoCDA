{
 "cells": [
  {
   "cell_type": "markdown",
   "metadata": {},
   "source": [
    "# 1. Librerías"
   ]
  },
  {
   "cell_type": "code",
   "execution_count": 4,
   "metadata": {},
   "outputs": [],
   "source": [
    "import pandas as pd\n",
    "import numpy as np\n",
    "import matplotlib.pyplot as plt\n",
    "import seaborn as sns\n",
    "from sklearn.metrics import mean_squared_error, mean_absolute_error, r2_score\n",
    "import math"
   ]
  },
  {
   "cell_type": "code",
   "execution_count": 5,
   "metadata": {},
   "outputs": [],
   "source": [
    "from keras.models import Sequential\n",
    "from keras.layers import Conv1D, MaxPooling1D, Flatten, Dense, Dropout, LSTM\n",
    "from keras.callbacks import EarlyStopping\n",
    "from keras.optimizers import Adam\n",
    "import keras_tuner as kt"
   ]
  },
  {
   "cell_type": "markdown",
   "metadata": {},
   "source": [
    "# 2. Lectura de los datos"
   ]
  },
  {
   "cell_type": "code",
   "execution_count": 3,
   "metadata": {},
   "outputs": [],
   "source": [
    "# Cragar datos\n",
    "df_demanda = pd.read_csv('./data/demanda_region.csv')"
   ]
  },
  {
   "cell_type": "code",
   "execution_count": 4,
   "metadata": {},
   "outputs": [
    {
     "data": {
      "text/plain": [
       "array(['ANTIOQUIA', 'ARAUCA', 'BAJO PUTUMAYO', 'BOGOTA - CUNDINAMARCA',\n",
       "       'BOYACA', 'CALDAS', 'CALI - YUMBO - PUERTO TEJADA', 'CAQUETA',\n",
       "       'CARIBE MAR', 'CARIBE SOL', 'CARTAGO', 'CASANARE', 'CAUCA',\n",
       "       'CHOCO', 'GUAVIARE', 'HUILA', 'META', 'NARIÑO',\n",
       "       'NORTE DE SANTANDER', 'PEREIRA', 'POPAYAN - PURACE', 'PUTUMAYO',\n",
       "       'QUINDIO', 'RUITOQUE', 'SANTANDER', 'TOLIMA', 'TULUA',\n",
       "       'VALLE DEL CAUCA', 'VALLE DEL SIBUNDOY', 'SIN CLASIFICAR'],\n",
       "      dtype=object)"
      ]
     },
     "execution_count": 4,
     "metadata": {},
     "output_type": "execute_result"
    }
   ],
   "source": [
    "# Mercados de comercializacion en el dataframe\n",
    "df_demanda['Values_code'].unique()"
   ]
  },
  {
   "cell_type": "markdown",
   "metadata": {},
   "source": [
    "## 2.1. Funciones para modificar los datos"
   ]
  },
  {
   "cell_type": "code",
   "execution_count": 5,
   "metadata": {},
   "outputs": [],
   "source": [
    "# Función para modificar el dataframe base, agregando la información de días festivos y filtrado de información hasta una fecha específica\n",
    "def df_ciudad(df, df_festivos, ciudad, fecha):\n",
    "    df_final = df[df['Values_code'] == ciudad]\n",
    "    df_final = df_final.drop(columns=['Id', 'Values_code', 'Values_MarketType'])\n",
    "    df_final['Date'] = pd.to_datetime(df_final['Date'])\n",
    "    horas = [f'Values_Hour{i:02d}' for i in range(1, 25)]\n",
    "    df_final['Total'] = df_final[horas].sum(axis=1)\n",
    "    df_final = df_final.drop(columns=horas)\n",
    "    df_final = df_final.groupby('Date').sum()\n",
    "    df_final = df_final.reset_index()\n",
    "    df_final = df_final.sort_values('Date')\n",
    "    df_final = df_final.reset_index(drop=True)\n",
    "    df_final = df_final[df_final['Date'] <= fecha]\n",
    "    df_final = pd.merge(df_final, df_festivos, on='Date', how='left')\n",
    "    df_final['Dia'] = df_final['Date'].apply(lambda x: x.weekday())\n",
    "    return df_final"
   ]
  },
  {
   "cell_type": "code",
   "execution_count": 6,
   "metadata": {},
   "outputs": [],
   "source": [
    "# Función para crear matriz donde se agrupe la información del día, como el valor de la cantidad de demnanda, día de la semana y si es festivo o no, en un rango de tiempo definido.\n",
    "def crear_matriz_modelo(df, ventana_entrada=60, ventana_salida=30):\n",
    "    # Crear una lista para almacenar cada fila de la matriz final\n",
    "    matriz_final = []\n",
    "    \n",
    "    ventana_total = ventana_entrada + ventana_salida\n",
    "    # Iteramos sobre el DataFrame para extraer ventanas de 60 días\n",
    "    for i in range(len(df) - ventana_total - 1):\n",
    "        # Extraemos una ventana de 60 días\n",
    "        ventana = df.iloc[i:i+ventana_total]\n",
    "        \n",
    "        # Reorganizamos la ventana en una sola fila con sufijos para cada día\n",
    "        fila = {}\n",
    "        for j in range(ventana_entrada):\n",
    "            fila[f'fe-{j+1}'] = ventana.iloc[j]['Festivo']\n",
    "            fila[f'd-{j+1}'] = ventana.iloc[j]['Dia']\n",
    "            fila[f't-{j+1}'] = ventana.iloc[j]['Total']\n",
    "        for t in range(ventana_entrada, ventana_total):\n",
    "            fila[f'fe-{t+1}'] = ventana.iloc[t]['Festivo']\n",
    "            fila[f'd-{t+1}'] = ventana.iloc[t]['Dia']\n",
    "            fila[f'r-{t+1-ventana_entrada}'] = ventana.iloc[t]['Total']\n",
    "        \n",
    "        # Añadimos la fila al conjunto de la matriz final\n",
    "        matriz_final.append(fila)\n",
    "    \n",
    "    # Convertimos la lista de filas en un DataFrame final\n",
    "    matriz_dias_df = pd.DataFrame(matriz_final)\n",
    "    \n",
    "    return matriz_dias_df"
   ]
  },
  {
   "cell_type": "code",
   "execution_count": 7,
   "metadata": {},
   "outputs": [],
   "source": [
    "# Función para graficar los resultados de los entrenamientos de los modelos ejecutados\n",
    "def plot_by_interval(real_values, predicted_values, title, color_real, color_pred, max_plots=10):\n",
    "    days_interval = 30\n",
    "    num_plots = min(len(real_values) // days_interval + 1, max_plots)\n",
    "\n",
    "    fig, axes = plt.subplots(num_plots, 1, figsize=(14, 6 * num_plots))\n",
    "\n",
    "    if num_plots == 1:\n",
    "        axes = [axes]\n",
    "\n",
    "    real_values = real_values.values\n",
    "\n",
    "    for i in range(num_plots):\n",
    "        x_values = list(range(1, days_interval + 1))\n",
    "        x_values_strings = [str(x) for x in x_values]\n",
    "        axes[i].plot(x_values_strings, real_values[i], color=color_real, label='Real')\n",
    "        axes[i].plot(x_values_strings, predicted_values[i], color=color_pred, label='Predicción')\n",
    "\n",
    "        # Configuración de cada subgráfico\n",
    "        axes[i].set_title(f'{title} - Intervalo {i + 1}')\n",
    "        axes[i].set_xlabel('Días')\n",
    "        axes[i].set_ylabel('Valores')\n",
    "        axes[i].legend()\n",
    "\n",
    "    # Ajustar la disposición de los subgráficos\n",
    "    plt.show()"
   ]
  },
  {
   "cell_type": "code",
   "execution_count": 8,
   "metadata": {},
   "outputs": [],
   "source": [
    "from datetime import datetime, timedelta\n",
    "import requests\n",
    "\n",
    "# Función para obtener los días festivos desde Nager.Date API\n",
    "\n",
    "def obtener_festivos(colombia, anio):\n",
    "    url = f\"https://date.nager.at/api/v3/publicholidays/{anio}/{colombia}\"\n",
    "    \n",
    "    response = requests.get(url)\n",
    "    if response.status_code == 200:\n",
    "        festivos = response.json()\n",
    "        # Extraer solo las fechas de los festivos\n",
    "        return [festivo['date'] for festivo in festivos]\n",
    "    else:\n",
    "        print(f\"Error al obtener festivos para el año {anio}, código de estado {response.status_code}\")\n",
    "        return []"
   ]
  },
  {
   "cell_type": "markdown",
   "metadata": {},
   "source": [
    "## 2.2. Pre procesamiento de datos"
   ]
  },
  {
   "cell_type": "code",
   "execution_count": 9,
   "metadata": {},
   "outputs": [],
   "source": [
    "# Crear un rango de fechas desde 2021 hasta septiembre de 2024\n",
    "fecha_inicio = datetime(2021, 1, 1)\n",
    "fecha_fin = datetime(2024, 9, 30)\n",
    "\n",
    "# Crear una lista con todas las fechas en ese rango\n",
    "fechas = pd.date_range(start=fecha_inicio, end=fecha_fin)\n",
    "\n",
    "# Obtener los días festivos para cada año de 2021 a 2024\n",
    "festivos_colombia = []\n",
    "for anio in range(2021, 2025):\n",
    "    festivos_colombia.extend(obtener_festivos('CO', anio))\n",
    "\n",
    "# Convertir las fechas de festivos a formato datetime\n",
    "festivos_colombia = [datetime.strptime(festivo, \"%Y-%m-%d\").date() for festivo in festivos_colombia]\n",
    "\n",
    "# Función para clasificar los días\n",
    "def clasificar_dia(fecha):\n",
    "    if fecha in festivos_colombia:\n",
    "        return 1\n",
    "    else:\n",
    "        return 0\n",
    "\n",
    "# Crear un DataFrame con las fechas y la clasificación\n",
    "datos = pd.DataFrame({'Date': fechas})\n",
    "datos['Festivo'] = datos['Date'].apply(lambda x: clasificar_dia(x.date()))\n",
    "\n",
    "# Guardar la lista en un archivo CSV\n",
    "datos.to_csv(\"./data/festivos.csv\", index=False)"
   ]
  },
  {
   "cell_type": "code",
   "execution_count": 10,
   "metadata": {},
   "outputs": [],
   "source": [
    "# Leer csv de festivos\n",
    "df_festivos = pd.read_csv('./data/festivos.csv')\n",
    "df_festivos['Date'] = pd.to_datetime(df_festivos['Date'])"
   ]
  },
  {
   "cell_type": "code",
   "execution_count": 11,
   "metadata": {},
   "outputs": [],
   "source": [
    "df_demanda.fillna(0, inplace=True)                          # Llenar los valores vacíos con 0, asumiendo que no hubo consumo\n",
    "horas = [f'Values_Hour{i:02d}' for i in range(1, 25)]       # Generar el arreglo Horas para hacer el filtro posterior en el dataset\n",
    "df_demanda['Total'] = df_demanda[horas].sum(axis=1)         # Crear la columna Total, con la suma del consumo de todas las horas del día\n",
    "grouped_data = df_demanda.groupby('Values_code')['Total'].sum().reset_index()       # Agrupar la demanda por mercado de comercialización (Región) dado que en el dataset original viene en dos formatos (Mercado Regulado y No Regulado) \n",
    "top_ciudades = grouped_data.sort_values(by='Total', ascending=False)['Values_code'].tolist()       # Conocer la lista en orden del consumo de las regiones para organizar la generación de los modelos"
   ]
  },
  {
   "cell_type": "code",
   "execution_count": 12,
   "metadata": {},
   "outputs": [
    {
     "data": {
      "text/plain": [
       "['BOGOTA - CUNDINAMARCA',\n",
       " 'CARIBE MAR',\n",
       " 'ANTIOQUIA',\n",
       " 'CARIBE SOL',\n",
       " 'CALI - YUMBO - PUERTO TEJADA',\n",
       " 'SANTANDER',\n",
       " 'BOYACA',\n",
       " 'VALLE DEL CAUCA',\n",
       " 'META',\n",
       " 'NORTE DE SANTANDER',\n",
       " 'CALDAS',\n",
       " 'TOLIMA',\n",
       " 'HUILA',\n",
       " 'CAUCA',\n",
       " 'ARAUCA',\n",
       " 'NARIÑO',\n",
       " 'PEREIRA',\n",
       " 'CASANARE',\n",
       " 'QUINDIO',\n",
       " 'CAQUETA',\n",
       " 'CHOCO',\n",
       " 'TULUA',\n",
       " 'CARTAGO',\n",
       " 'PUTUMAYO',\n",
       " 'BAJO PUTUMAYO',\n",
       " 'GUAVIARE',\n",
       " 'RUITOQUE',\n",
       " 'VALLE DEL SIBUNDOY',\n",
       " 'POPAYAN - PURACE',\n",
       " 'SIN CLASIFICAR']"
      ]
     },
     "execution_count": 12,
     "metadata": {},
     "output_type": "execute_result"
    }
   ],
   "source": [
    "top_ciudades"
   ]
  },
  {
   "cell_type": "markdown",
   "metadata": {},
   "source": [
    "## 2.3. Selección Ciduad"
   ]
  },
  {
   "cell_type": "code",
   "execution_count": null,
   "metadata": {},
   "outputs": [],
   "source": [
    "ciudad = top_ciudades[0]"
   ]
  },
  {
   "cell_type": "code",
   "execution_count": 13,
   "metadata": {},
   "outputs": [],
   "source": [
    "df_demanda_ciudades = {}            # Arreglo vacío para guardar los datasets individuales por región\n",
    "fecha = '2024-09-30'                # Fecha de filtrado de la información, se define dado que al momento de realizar los modelos era el último mes con información completa en la API de XM\n",
    "for i in top_ciudades:\n",
    "    j = top_ciudades.index(i)\n",
    "    df_demanda_ciudades[i] = df_ciudad(df_demanda, df_festivos, top_ciudades[j], fecha)        # Generación del arreglo con los datasets de las regiones, el apuntador es el nombre de la región, no un número en algún orden"
   ]
  },
  {
   "cell_type": "code",
   "execution_count": null,
   "metadata": {},
   "outputs": [],
   "source": [
    "matriz_modelo = {}                  # Arreglo vació para guardar las matrices de cada región para el modelo\n",
    "matriz_modelo[ciudad] = crear_matriz_modelo(df_demanda_ciudades[ciudad], 60, 30)        # Se define un rango de 60 días en el pasado y 30 días en el futuro para la predicción"
   ]
  },
  {
   "cell_type": "markdown",
   "metadata": {},
   "source": [
    "# 3. Generación de modelos"
   ]
  },
  {
   "cell_type": "markdown",
   "metadata": {},
   "source": [
    "## 3.1. Funciones para generar los modelos"
   ]
  },
  {
   "cell_type": "markdown",
   "metadata": {},
   "source": [
    "### 3.1.1. MLP"
   ]
  },
  {
   "cell_type": "code",
   "execution_count": 15,
   "metadata": {},
   "outputs": [],
   "source": [
    "# Definir la función para construir el modelo MLP en búsqueda de hiperparámetros\n",
    "def build_model_mlp(hp):\n",
    "    model = Sequential(name=\"MLP\")\n",
    "    \n",
    "    # Hiperparámetros para las capas ocultas, los rangos se pueden modificar, así como los pasos y la función de activación\n",
    "    model.add(Dense(units=hp.Int('units_1', min_value=32, max_value=512, step=32), input_dim=240, activation='relu'))           # Primera capa dense, donde se define el rango de entrada, este valor depende de la matriz modelo\n",
    "    model.add(Dense(units=hp.Int('units_2', min_value=32, max_value=512, step=32), activation='relu'))                          # Segunda capa dense\n",
    "    model.add(Dense(units=hp.Int('units_3', min_value=32, max_value=512, step=32), activation='relu'))                          # Tercera capa dense\n",
    "    \n",
    "    # Capa de salida\n",
    "    model.add(Dense(30, activation='linear'))       # Capa dense de salida, se define el valor 30 dado que se estan prediciendo 30 días únicamente, si se desea aumentar el rango este valor también debe cambiar\n",
    "\n",
    "    # Optimización de la tasa de aprendizaje\n",
    "    model.compile(loss='mae', \n",
    "                  optimizer=Adam(learning_rate=hp.Float('learning_rate', min_value=1e-5, max_value=1e-2, sampling='LOG', default=0.001)))\n",
    "    \n",
    "    return model"
   ]
  },
  {
   "cell_type": "code",
   "execution_count": 18,
   "metadata": {},
   "outputs": [],
   "source": [
    "# Función para generar el modelo MLP, con entrada el nombre del proyecto para almacenar los intentos y la matriz modelo de cada una de las regiones\n",
    "def generate_model_MLP(matriz_modelo, project_name):\n",
    "    X = matriz_modelo.drop(columns=[f'r-{i+1}' for i in range(30)])     # Generación de las entradas, eliminando las columnas del resultado\n",
    "    y = matriz_modelo[[f'r-{i+1}' for i in range(30)]]                  # Generación de las salidas, solo definiendo la columna del resultado\n",
    "\n",
    "    # Obtener el primer 70% de los datos\n",
    "    corte = int(0.7 * len(X))\n",
    "\n",
    "    X_train = X.iloc[:corte]\n",
    "    X_test = X.iloc[corte:]\n",
    "\n",
    "    Y_train = y.iloc[:corte]\n",
    "    Y_test = y.iloc[corte:]\n",
    "\n",
    "    # Crear el objeto de búsqueda de hiperparámetros\n",
    "    tuner = kt.Hyperband(build_model_mlp, \n",
    "                        objective='val_loss', \n",
    "                        max_epochs=20, \n",
    "                        hyperband_iterations=2, \n",
    "                        directory='ejecucion',             # Nombre del directorio donde se almacenan los intentos de búsqueda de hiperparámetros\n",
    "                        project_name=project_name)      # Nombre del proyecto por modelo, debe ser diferente para que no cruce información y entrene de manera correcta\n",
    "\n",
    "    # Parada temprana para evitar sobreajuste\n",
    "    early_stopping = EarlyStopping(monitor='val_loss', patience=10, restore_best_weights=True)\n",
    "    \n",
    "    # Ejecutar la búsqueda de hiperparámetros\n",
    "    tuner.search(X_train, Y_train, \n",
    "                validation_split=0.2, \n",
    "                epochs=50, \n",
    "                batch_size=64, \n",
    "                callbacks=[early_stopping])\n",
    "\n",
    "    # Obtener el mejor modelo\n",
    "    best_model_MLP = tuner.get_best_models(num_models=1)[0]\n",
    "\n",
    "    # Evaluar el modelo con los datos de prueba\n",
    "    loss = best_model_MLP.evaluate(X_test, Y_test)\n",
    "    print(\"Test Loss:\", loss)\n",
    "\n",
    "    best_trial = tuner.oracle.get_best_trials(num_trials=1)[0]\n",
    "    best_hyperparameters_MLP = best_trial.hyperparameters.values\n",
    "\n",
    "    testPredict = best_model_MLP.predict(X_test)\n",
    "\n",
    "    # Graficamos los primeros 3 intervalos de prueba\n",
    "    plot_by_interval(Y_test, testPredict, 'Resultados de Prueba', 'green', 'red', max_plots=3)\n",
    "\n",
    "    return best_model_MLP, best_hyperparameters_MLP"
   ]
  },
  {
   "cell_type": "markdown",
   "metadata": {},
   "source": [
    "### 3.1.2. CNN"
   ]
  },
  {
   "cell_type": "code",
   "execution_count": 16,
   "metadata": {},
   "outputs": [],
   "source": [
    "# Definir la función para construir el modelo CNN en búsqueda de hiperparámetros\n",
    "def build_model_CNN(hp):\n",
    "    model = Sequential(name=\"CNN\")\n",
    "\n",
    "    # Primera capa convolucional con hiperparámetros para filtros y tamaño de kernel\n",
    "    model.add(Conv1D(filters=hp.Int('filters_1', min_value=32, max_value=128, step=32),\n",
    "                     kernel_size=hp.Int('kernel_size_1', min_value=3, max_value=7, step=2), \n",
    "                     activation='relu', input_shape=(240, 1)))\n",
    "    model.add(MaxPooling1D(pool_size=2))  # Reducción de dimensionalidad\n",
    "\n",
    "    # Segunda capa convolucional con filtros y tamaño de kernel optimizados\n",
    "    model.add(Conv1D(filters=hp.Int('filters_2', min_value=64, max_value=256, step=64), \n",
    "                     kernel_size=hp.Int('kernel_size_2', min_value=3, max_value=7, step=2), \n",
    "                     activation='relu'))\n",
    "    model.add(MaxPooling1D(pool_size=2))\n",
    "\n",
    "    # Aplanar y agregar capas densas\n",
    "    model.add(Flatten())\n",
    "    model.add(Dense(units=hp.Int('units_dense', min_value=64, max_value=256, step=64), activation='relu'))\n",
    "    model.add(Dense(30, activation='linear'))       # Capa dense de salida, se define el valor 30 dado que se estan prediciendo 30 días únicamente, si se desea aumentar el rango este valor también debe cambiar\n",
    "\n",
    "    # Optimización de la tasa de aprendizaje\n",
    "    model.compile(loss='mae', \n",
    "                  optimizer=Adam(learning_rate=hp.Float('learning_rate', min_value=1e-5, max_value=1e-2, sampling='LOG', default=0.001)))\n",
    "\n",
    "    return model"
   ]
  },
  {
   "cell_type": "code",
   "execution_count": 19,
   "metadata": {},
   "outputs": [],
   "source": [
    "# Función para generar el modelo CNN, con entrada el nombre del proyecto para almacenar los intentos y la matriz modelo de cada una de las regiones\n",
    "def generate_model_CNN(matriz_modelo, project_name):\n",
    "    X = matriz_modelo.drop(columns=[f'r-{i+1}' for i in range(30)])     # Generación de las entradas, eliminando las columnas del resultado\n",
    "    y = matriz_modelo[[f'r-{i+1}' for i in range(30)]]                  # Generación de las salidas, solo definiendo la columna del resultado\n",
    "\n",
    "    # Obtener el primer 70% de los datos\n",
    "    corte = int(0.7 * len(X))\n",
    "\n",
    "    X_train = X.iloc[:corte]\n",
    "    X_test = X.iloc[corte:]\n",
    "\n",
    "    Y_train = y.iloc[:corte]\n",
    "    Y_test = y.iloc[corte:]\n",
    "\n",
    "    # Crear el objeto de búsqueda de hiperparámetros\n",
    "    tuner = kt.Hyperband(build_model_CNN, \n",
    "                        objective='val_loss', \n",
    "                        max_epochs=20, \n",
    "                        hyperband_iterations=2, \n",
    "                        directory='ejecucion',             # Nombre del directorio donde se almacenan los intentos de búsqueda de hiperparámetros\n",
    "                        project_name=project_name)      # Nombre del proyecto por modelo, debe ser diferente para que no cruce información y entrene de manera correcta\n",
    "\n",
    "    # Parada temprana para evitar sobreajuste\n",
    "    early_stopping = EarlyStopping(monitor='val_loss', patience=10, restore_best_weights=True)\n",
    "\n",
    "    # Ejecutar la búsqueda de hiperparámetros\n",
    "    tuner.search(X_train, Y_train, \n",
    "                validation_split=0.2, \n",
    "                epochs=50, \n",
    "                batch_size=64, \n",
    "                callbacks=[early_stopping])\n",
    "\n",
    "    # Obtener el mejor modelo\n",
    "    best_model_CNN = tuner.get_best_models(num_models=1)[0]\n",
    "\n",
    "    # Evaluar el modelo con los datos de prueba\n",
    "    loss = best_model_CNN.evaluate(X_test, Y_test)\n",
    "    print(\"Test Loss:\", loss)\n",
    "\n",
    "    best_trial = tuner.oracle.get_best_trials(num_trials=1)[0]\n",
    "    best_hyperparameters_CNN = best_trial.hyperparameters.values\n",
    "\n",
    "    testPredict = best_model_CNN.predict(X_test)\n",
    "    \n",
    "    # Graficamos los primeros 3 intervalos de prueba\n",
    "    plot_by_interval(Y_test, testPredict, 'Resultados de Prueba', 'green', 'red', max_plots=3)\n",
    "\n",
    "    return best_model_CNN, best_hyperparameters_CNN"
   ]
  },
  {
   "cell_type": "markdown",
   "metadata": {},
   "source": [
    "### 3.1.3 LSTM"
   ]
  },
  {
   "cell_type": "code",
   "execution_count": 17,
   "metadata": {},
   "outputs": [],
   "source": [
    "def build_model_LSTM(hp):\n",
    "    # Crear y ajustar la red LSTM\n",
    "    model = Sequential(name=\"LSTM_Advanced\")\n",
    "    \n",
    "    # Primera capa LSTM con número de unidades como hiperparámetro\n",
    "    model.add(LSTM(\n",
    "        units=hp.Int('units_layer1', min_value=64, max_value=256, step=32),\n",
    "        return_sequences=True, \n",
    "        input_shape=(1, 240), \n",
    "        name='LSTM_Layer1'\n",
    "    ))\n",
    "    model.add(Dropout(hp.Float('dropout_layer1', min_value=0.1, max_value=0.5, step=0.1), name='Dropout_Layer1'))\n",
    "    \n",
    "    # Segunda capa LSTM con número de unidades como hiperparámetro\n",
    "    model.add(LSTM(\n",
    "        units=hp.Int('units_layer2', min_value=32, max_value=128, step=32),\n",
    "        return_sequences=False, \n",
    "        name='LSTM_Layer2'\n",
    "    ))\n",
    "    model.add(Dropout(hp.Float('dropout_layer2', min_value=0.1, max_value=0.5, step=0.1), name='Dropout_Layer2'))\n",
    "    \n",
    "    # Capa densa intermedia\n",
    "    model.add(Dense(\n",
    "        units=hp.Int('dense_units', min_value=16, max_value=64, step=16), \n",
    "        activation='relu', \n",
    "        name='Dense_Layer1'\n",
    "    ))\n",
    "    model.add(Dropout(hp.Float('dropout_layer3', min_value=0.1, max_value=0.5, step=0.1), name='Dropout_Layer3'))\n",
    "    \n",
    "    # Capa de salida\n",
    "    model.add(Dense(30, activation='linear', name='Output_Layer'))\n",
    "    \n",
    "    # Compilación del modelo con tasa de aprendizaje como hiperparámetro\n",
    "    model.compile(\n",
    "        loss='mean_squared_error',\n",
    "        optimizer=Adam(learning_rate=hp.Float('learning_rate', min_value=1e-4, max_value=1e-2, sampling='log')),\n",
    "    )\n",
    "    return model"
   ]
  },
  {
   "cell_type": "code",
   "execution_count": 20,
   "metadata": {},
   "outputs": [],
   "source": [
    "from keras_tuner import RandomSearch\n",
    "def generate_model_LSTM(matriz_modelo, project_name):\n",
    "    X = matriz_modelo.drop(columns=[f'r-{i+1}' for i in range(30)])     # Generación de las entradas, eliminando las columnas del resultado\n",
    "    y = matriz_modelo[[f'r-{i+1}' for i in range(30)]]                  # Generación de las salidas, solo definiendo la columna del resultado\n",
    "\n",
    "    # Obtener el primer 70% de los datos\n",
    "    corte = int(0.7 * len(X))\n",
    "\n",
    "    X_train = X.iloc[:corte]\n",
    "    X_test = X.iloc[corte:]\n",
    "\n",
    "    Y_train = y.iloc[:corte]\n",
    "    Y_test = y.iloc[corte:]\n",
    "\n",
    "    X_train = np.reshape(X_train, (X_train.shape[0], 1, X_train.shape[1]))\n",
    "    X_test = np.reshape(X_test, (X_test.shape[0], 1, X_test.shape[1]))\n",
    "\n",
    "    tuner = RandomSearch(build_model_LSTM, \n",
    "                        objective='val_loss',\n",
    "                        max_trials=10,  # Número de configuraciones diferentes que se probarán\n",
    "                        executions_per_trial=1,  # Número de veces que se ejecutará cada configuración\n",
    "                        directory='ejecucion',\n",
    "                        project_name=project_name)\n",
    "    \n",
    "    # Parada temprana para evitar sobreajuste\n",
    "    early_stopping = EarlyStopping(monitor='val_loss', patience=10, restore_best_weights=True)\n",
    "\n",
    "    # Ejecutar la búsqueda de hiperparámetros\n",
    "    tuner.search(X_train, Y_train, \n",
    "                validation_split=0.2, \n",
    "                epochs=50, \n",
    "                batch_size=64, \n",
    "                callbacks=[early_stopping])\n",
    "    \n",
    "    best_model_LSTM = tuner.get_best_models(num_models=1)[0]\n",
    "\n",
    "    # Evaluar el modelo con los datos de prueba\n",
    "    loss = best_model_LSTM.evaluate(X_test, Y_test)\n",
    "    print(\"Test Loss:\", loss)\n",
    "\n",
    "    best_trial = tuner.oracle.get_best_trials(num_trials=1)[0]\n",
    "    best_hyperparameters_LSTM = best_trial.hyperparameters.values\n",
    "\n",
    "    testPredict = best_model_LSTM.predict(X_test)\n",
    "    \n",
    "    # Graficamos los primeros 3 intervalos de prueba\n",
    "    plot_by_interval(Y_test, testPredict, 'Resultados de Prueba', 'green', 'red', max_plots=3)\n",
    "\n",
    "    return best_model_LSTM, best_hyperparameters_LSTM"
   ]
  },
  {
   "cell_type": "markdown",
   "metadata": {},
   "source": [
    "## 3.2. Generación de los modelos por región"
   ]
  },
  {
   "cell_type": "code",
   "execution_count": null,
   "metadata": {},
   "outputs": [
    {
     "name": "stdout",
     "output_type": "stream",
     "text": [
      "Trial 10 Complete [00h 00m 31s]\n",
      "val_loss: 1979292862906368.0\n",
      "\n",
      "Best val_loss So Far: 1974235941568512.0\n",
      "Total elapsed time: 00h 05m 01s\n"
     ]
    },
    {
     "name": "stderr",
     "output_type": "stream",
     "text": [
      "c:\\Users\\Nicolas Estepa\\anaconda3\\Lib\\site-packages\\keras\\src\\layers\\rnn\\rnn.py:204: UserWarning: Do not pass an `input_shape`/`input_dim` argument to a layer. When using Sequential models, prefer using an `Input(shape)` object as the first layer in the model instead.\n",
      "  super().__init__(**kwargs)\n",
      "c:\\Users\\Nicolas Estepa\\anaconda3\\Lib\\site-packages\\keras\\src\\saving\\saving_lib.py:719: UserWarning: Skipping variable loading for optimizer 'adam', because it has 2 variables whereas the saved optimizer has 22 variables. \n",
      "  saveable.load_own_variables(weights_store.get(inner_path))\n"
     ]
    },
    {
     "name": "stdout",
     "output_type": "stream",
     "text": [
      "\u001b[1m12/12\u001b[0m \u001b[32m━━━━━━━━━━━━━━━━━━━━\u001b[0m\u001b[37m\u001b[0m \u001b[1m1s\u001b[0m 8ms/step - loss: 2020846671495168.0000 \n",
      "Test Loss: 1999080179892224.0\n",
      "\u001b[1m12/12\u001b[0m \u001b[32m━━━━━━━━━━━━━━━━━━━━\u001b[0m\u001b[37m\u001b[0m \u001b[1m1s\u001b[0m 4ms/step  \n"
     ]
    },
    {
     "data": {
      "image/png": "[encoded data removed]",
      "text/plain": [
       "<Figure size 1400x1800 with 3 Axes>"
      ]
     },
     "metadata": {},
     "output_type": "display_data"
    }
   ],
   "source": [
    "best_model_MLP = {}                     # Arreglo vacío para guardar los resultados de los modelos de tipo MLP de cada región\n",
    "best_hyperparameters_MLP = {}           # Arreglo vacío para guardar los resultados de los hiperparámetros de los modelos de tipo MLP de cada región\n",
    "best_model_CNN = {}                     # Arreglo vacío para guardar los resultados de los modelos de tipo CNN de cada región\n",
    "best_hyperparameters_CNN = {}           # Arreglo vacío para guardar los resultados de los hiperparámetros de los modelos de tipo CNN de cada región\n",
    "best_model_LSTM = {}                     # Arreglo vacío para guardar los resultados de los modelos de tipo LSTM de cada región\n",
    "best_hyperparameters_LSTM = {}           # Arreglo vacío para guardar los resultados de los hiperparámetros de los modelos de tipo LSTM de cada región\n",
    "\n",
    "best_model_MLP[ciudad], best_hyperparameters_MLP[ciudad] = generate_model_MLP(matriz_modelo[ciudad], \"MLP_tunning_0\")\n",
    "best_model_CNN[ciudad], best_hyperparameters_CNN[ciudad] = generate_model_CNN(matriz_modelo[ciudad], \"CNN_tunning_0\")\n",
    "best_model_LSTM[ciudad], best_hyperparameters_LSTM[ciudad] = generate_model_LSTM(matriz_modelo[ciudad], \"LSTM_tunning_0\")"
   ]
  },
  {
   "cell_type": "markdown",
   "metadata": {},
   "source": [
    "# 4. Pruebas métricas para selección del modelo"
   ]
  },
  {
   "cell_type": "markdown",
   "metadata": {},
   "source": [
    "## 4.1. Funciones necesarias para el cálculo"
   ]
  },
  {
   "cell_type": "code",
   "execution_count": 22,
   "metadata": {},
   "outputs": [],
   "source": [
    "# Calculo de las métricas MSE y MAE para la comparación de resultados\n",
    "def calcular_metricas(y_true, y_pred):\n",
    "    mse = mean_squared_error(y_true, y_pred)\n",
    "    mae = mean_absolute_error(y_true, y_pred)\n",
    "    return {\"MSE\": mse, \"MAE\": mae}"
   ]
  },
  {
   "cell_type": "code",
   "execution_count": null,
   "metadata": {},
   "outputs": [],
   "source": [
    "# Función necesaria para reconocer el modelo LSTM, debido a que es necesario modificar el formato para evaluar el modelo\n",
    "def is_lstm_model(model):\n",
    "    for layer in model.layers:\n",
    "        if isinstance(layer, LSTM):\n",
    "            return True\n",
    "    return False"
   ]
  },
  {
   "cell_type": "code",
   "execution_count": null,
   "metadata": {},
   "outputs": [],
   "source": [
    "from sklearn.model_selection import train_test_split\n",
    "\n",
    "# Ejecución de pruebas A/B para comparar las metricas MSE y MAE para escoger el mejor modelo\n",
    "def pruebas_ab(control, variant, matriz_modelo, ciudad):\n",
    "    X = matriz_modelo.drop(columns=[f'r-{i+1}' for i in range(30)])\n",
    "    y = matriz_modelo[[f'r-{i+1}' for i in range(30)]]\n",
    "\n",
    "    xtestA, xtestB, ytestA, ytestB = train_test_split(X, y, test_size=0.5)\n",
    "\n",
    "    if is_lstm_model(control):\n",
    "        xtestA = np.reshape(xtestA, (xtestA.shape[0], 1, xtestA.shape[1]))      # Modificación del formato de la entrada para evualar el modelo LSTM\n",
    "\n",
    "    if is_lstm_model(variant):\n",
    "        xtestB = np.reshape(xtestB, (xtestB.shape[0], 1, xtestB.shape[1]))      # Modificación del formato de la entrada para evualar el modelo LSTM\n",
    "    \n",
    "    ypred_control=control.predict(xtestA)\n",
    "    ypred_variant=variant.predict(xtestB)\n",
    "\n",
    "    # Métricas para cada modelo\n",
    "    metrics_control = calcular_metricas(ytestA, ypred_control)\n",
    "    metrics_variant = calcular_metricas(ytestB, ypred_variant)\n",
    "\n",
    "    print(f\"Métricas Modelo A de {ciudad}:\", metrics_control)\n",
    "    print(f\"Métricas Modelo B de {ciudad}:\", metrics_variant)\n",
    "\n",
    "    # Se escoge el mejor modelo a partir del que tenga menor error absoluto\n",
    "    if metrics_control[\"MAE\"] < metrics_variant[\"MAE\"]:\n",
    "        mejor_modelo = control\n",
    "        mejores_metricas = metrics_control         \n",
    "    else:\n",
    "        mejor_modelo = variant\n",
    "        mejores_metricas = metrics_variant\n",
    "\n",
    "    return mejor_modelo, mejores_metricas       # Retorno de las metricas y mejor modelo para evaluar en un futuro el modelo"
   ]
  },
  {
   "cell_type": "markdown",
   "metadata": {},
   "source": [
    "## 4.2. Obtención del mejor modelo a partir de pruebas A/B"
   ]
  },
  {
   "cell_type": "code",
   "execution_count": null,
   "metadata": {},
   "outputs": [
    {
     "name": "stdout",
     "output_type": "stream",
     "text": [
      "\u001b[1m20/20\u001b[0m \u001b[32m━━━━━━━━━━━━━━━━━━━━\u001b[0m\u001b[37m\u001b[0m \u001b[1m0s\u001b[0m 3ms/step\n",
      "\u001b[1m20/20\u001b[0m \u001b[32m━━━━━━━━━━━━━━━━━━━━\u001b[0m\u001b[37m\u001b[0m \u001b[1m0s\u001b[0m 6ms/step\n",
      "Métricas Modelo A de BOGOTA - CUNDINAMARCA: {'MSE': 7677830785575.56, 'MAE': 1879734.2187203967}\n",
      "Métricas Modelo B de BOGOTA - CUNDINAMARCA: {'MSE': 7200030850858.213, 'MAE': 1673183.2112999484}\n",
      "\u001b[1m20/20\u001b[0m \u001b[32m━━━━━━━━━━━━━━━━━━━━\u001b[0m\u001b[37m\u001b[0m \u001b[1m0s\u001b[0m 6ms/step\n",
      "\u001b[1m20/20\u001b[0m \u001b[32m━━━━━━━━━━━━━━━━━━━━\u001b[0m\u001b[37m\u001b[0m \u001b[1m0s\u001b[0m 3ms/step\n"
     ]
    },
    {
     "name": "stderr",
     "output_type": "stream",
     "text": [
      "WARNING:absl:You are saving your model as an HDF5 file via `model.save()` or `keras.saving.save_model(model)`. This file format is considered legacy. We recommend using instead the native Keras format, e.g. `model.save('my_model.keras')` or `keras.saving.save_model(model, 'my_model.keras')`. \n"
     ]
    },
    {
     "name": "stdout",
     "output_type": "stream",
     "text": [
      "Métricas Modelo A de BOGOTA - CUNDINAMARCA: {'MSE': 6865938033081.458, 'MAE': 1643817.3121163284}\n",
      "Métricas Modelo B de BOGOTA - CUNDINAMARCA: {'MSE': 1946173066986877.5, 'MAE': 43952116.6416064}\n"
     ]
    }
   ],
   "source": [
    "mejor_modelo = {}           # Arreglo vacío para almacenar el mejor modelo por región\n",
    "metrics = {}        # Arreglo vacío para las metricas del mejro modelo\n",
    "\n",
    "mejor_modelo[ciudad], metrics[ciudad] = pruebas_ab(best_model_MLP[ciudad], best_model_CNN[ciudad], matriz_modelo[ciudad], ciudad)       # Almacenamiento del mejor modelo por región, el apuntador es el nombre de la región\n",
    "mejor_modelo[ciudad], metrics[ciudad] = pruebas_ab(mejor_modelo[ciudad], best_model_LSTM[ciudad], matriz_modelo[ciudad], ciudad)       # Almacenamiento del mejor modelo por región, el apuntador es el nombre de la región\n",
    "mejor_modelo[ciudad].save(f\"./modelos_ejecución/{ciudad}.h5\")       # Almacenamiento del modelo en la ruta ./modelos con el nombre de la región"
   ]
  },
  {
   "cell_type": "markdown",
   "metadata": {},
   "source": [
    "## 4.3. Visualización de resultados"
   ]
  },
  {
   "cell_type": "code",
   "execution_count": null,
   "metadata": {},
   "outputs": [],
   "source": [
    "def plot_result(modelo, matriz_modelo, ciudad):\n",
    "    X = matriz_modelo.drop(columns=[f'r-{i+1}' for i in range(30)])     # Generación de las entradas, eliminando las columnas del resultado\n",
    "    y = matriz_modelo[[f'r-{i+1}' for i in range(30)]]\n",
    "\n",
    "    y_predict = modelo.predict(X)\n",
    "\n",
    "    plot_by_interval(y, y_predict, f\"Resultados de Prueba región {ciudad}\", 'green', 'red', max_plots=1)"
   ]
  },
  {
   "cell_type": "code",
   "execution_count": null,
   "metadata": {},
   "outputs": [],
   "source": [
    "plot_result(mejor_modelo[ciudad], matriz_modelo[ciudad], ciudad)"
   ]
  }
 ],
 "metadata": {
  "kernelspec": {
   "display_name": "base",
   "language": "python",
   "name": "python3"
  },
  "language_info": {
   "codemirror_mode": {
    "name": "ipython",
    "version": 3
   },
   "file_extension": ".py",
   "mimetype": "text/x-python",
   "name": "python",
   "nbconvert_exporter": "python",
   "pygments_lexer": "ipython3",
   "version": "3.12.4"
  }
 },
 "nbformat": 4,
 "nbformat_minor": 2
}
